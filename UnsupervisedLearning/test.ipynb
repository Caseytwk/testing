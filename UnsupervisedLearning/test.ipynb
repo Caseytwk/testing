{
 "cells": [
  {
   "cell_type": "code",
   "execution_count": 13,
   "metadata": {},
   "outputs": [],
   "source": [
    "import tensorflow as tf\n",
    "from tensorflow import keras\n",
    "from tensorflow.keras import layers\n",
    "import numpy as np\n",
    "import pandas as pd\n",
    "from sklearn.preprocessing import MinMaxScaler, OneHotEncoder\n",
    "import matplotlib.pyplot as plt\n",
    "from tensorflow.keras.callbacks import EarlyStopping\n",
    "from sklearn.metrics import mean_squared_error, mean_absolute_error\n",
    "import joblib\n",
    "from sklearn.model_selection import train_test_split"
   ]
  },
  {
   "cell_type": "markdown",
   "metadata": {},
   "source": [
    "# Testing CUDA"
   ]
  },
  {
   "cell_type": "code",
   "execution_count": 2,
   "metadata": {},
   "outputs": [
    {
     "name": "stdout",
     "output_type": "stream",
     "text": [
      "GPUs available: [PhysicalDevice(name='/physical_device:GPU:0', device_type='GPU')]\n",
      "Built with cuda: True\n",
      "9/9 [==============================] - 1s 4ms/step - loss: 1.1466\n"
     ]
    }
   ],
   "source": [
    "def make_nn():\n",
    "    model = tf.keras.models.Sequential()\n",
    "    model.add(tf.keras.layers.Dense(1, input_shape=(1,)))\n",
    "    model.compile(loss='mean_squared_error', optimizer='sgd')\n",
    "    return model\n",
    "\n",
    "def dataset():\n",
    "    x = np.array([1, 2, 3, 4, 5, 6, 7, 8, 9])\n",
    "    y = np.array([1, 2, 3, 4, 5, 6, 7, 8, 9])\n",
    "    return tf.data.Dataset.from_tensor_slices((x, y)).batch(1)\n",
    "\n",
    "\n",
    "\n",
    "def main():\n",
    "    model = make_nn()\n",
    "    model.fit(dataset(), epochs=1, steps_per_epoch=9)\n",
    "\n",
    "if __name__ == '__main__':\n",
    "    print(f\"GPUs available: {tf.config.list_physical_devices('GPU')}\")\n",
    "    print(f\"Built with cuda: {tf.test.is_built_with_cuda()}\")\n",
    "\n",
    "    main()"
   ]
  },
  {
   "cell_type": "code",
   "execution_count": 3,
   "metadata": {},
   "outputs": [
    {
     "data": {
      "text/html": [
       "<div>\n",
       "<style scoped>\n",
       "    .dataframe tbody tr th:only-of-type {\n",
       "        vertical-align: middle;\n",
       "    }\n",
       "\n",
       "    .dataframe tbody tr th {\n",
       "        vertical-align: top;\n",
       "    }\n",
       "\n",
       "    .dataframe thead th {\n",
       "        text-align: right;\n",
       "    }\n",
       "</style>\n",
       "<table border=\"1\" class=\"dataframe\">\n",
       "  <thead>\n",
       "    <tr style=\"text-align: right;\">\n",
       "      <th></th>\n",
       "      <th>session_id</th>\n",
       "      <th>network_packet_size</th>\n",
       "      <th>protocol_type</th>\n",
       "      <th>login_attempts</th>\n",
       "      <th>session_duration</th>\n",
       "      <th>encryption_used</th>\n",
       "      <th>ip_reputation_score</th>\n",
       "      <th>failed_logins</th>\n",
       "      <th>browser_type</th>\n",
       "      <th>unusual_time_access</th>\n",
       "    </tr>\n",
       "  </thead>\n",
       "  <tbody>\n",
       "    <tr>\n",
       "      <th>0</th>\n",
       "      <td>SID_00001</td>\n",
       "      <td>599</td>\n",
       "      <td>TCP</td>\n",
       "      <td>4</td>\n",
       "      <td>492.983263</td>\n",
       "      <td>DES</td>\n",
       "      <td>0.606818</td>\n",
       "      <td>1</td>\n",
       "      <td>Edge</td>\n",
       "      <td>0</td>\n",
       "    </tr>\n",
       "    <tr>\n",
       "      <th>1</th>\n",
       "      <td>SID_00002</td>\n",
       "      <td>472</td>\n",
       "      <td>TCP</td>\n",
       "      <td>3</td>\n",
       "      <td>1557.996461</td>\n",
       "      <td>DES</td>\n",
       "      <td>0.301569</td>\n",
       "      <td>0</td>\n",
       "      <td>Firefox</td>\n",
       "      <td>0</td>\n",
       "    </tr>\n",
       "    <tr>\n",
       "      <th>2</th>\n",
       "      <td>SID_00003</td>\n",
       "      <td>629</td>\n",
       "      <td>TCP</td>\n",
       "      <td>3</td>\n",
       "      <td>75.044262</td>\n",
       "      <td>DES</td>\n",
       "      <td>0.739164</td>\n",
       "      <td>2</td>\n",
       "      <td>Chrome</td>\n",
       "      <td>0</td>\n",
       "    </tr>\n",
       "    <tr>\n",
       "      <th>3</th>\n",
       "      <td>SID_00004</td>\n",
       "      <td>804</td>\n",
       "      <td>UDP</td>\n",
       "      <td>4</td>\n",
       "      <td>601.248835</td>\n",
       "      <td>DES</td>\n",
       "      <td>0.123267</td>\n",
       "      <td>0</td>\n",
       "      <td>Unknown</td>\n",
       "      <td>0</td>\n",
       "    </tr>\n",
       "    <tr>\n",
       "      <th>4</th>\n",
       "      <td>SID_00005</td>\n",
       "      <td>453</td>\n",
       "      <td>TCP</td>\n",
       "      <td>5</td>\n",
       "      <td>532.540888</td>\n",
       "      <td>AES</td>\n",
       "      <td>0.054874</td>\n",
       "      <td>1</td>\n",
       "      <td>Firefox</td>\n",
       "      <td>0</td>\n",
       "    </tr>\n",
       "  </tbody>\n",
       "</table>\n",
       "</div>"
      ],
      "text/plain": [
       "  session_id  network_packet_size protocol_type  login_attempts  \\\n",
       "0  SID_00001                  599           TCP               4   \n",
       "1  SID_00002                  472           TCP               3   \n",
       "2  SID_00003                  629           TCP               3   \n",
       "3  SID_00004                  804           UDP               4   \n",
       "4  SID_00005                  453           TCP               5   \n",
       "\n",
       "   session_duration encryption_used  ip_reputation_score  failed_logins  \\\n",
       "0        492.983263             DES             0.606818              1   \n",
       "1       1557.996461             DES             0.301569              0   \n",
       "2         75.044262             DES             0.739164              2   \n",
       "3        601.248835             DES             0.123267              0   \n",
       "4        532.540888             AES             0.054874              1   \n",
       "\n",
       "  browser_type  unusual_time_access  \n",
       "0         Edge                    0  \n",
       "1      Firefox                    0  \n",
       "2       Chrome                    0  \n",
       "3      Unknown                    0  \n",
       "4      Firefox                    0  "
      ]
     },
     "execution_count": 3,
     "metadata": {},
     "output_type": "execute_result"
    }
   ],
   "source": [
    "df=pd.read_csv(\"cybersecurity_intrusion_data.csv\")\n",
    "df.head(5)"
   ]
  },
  {
   "cell_type": "code",
   "execution_count": 4,
   "metadata": {},
   "outputs": [
    {
     "name": "stdout",
     "output_type": "stream",
     "text": [
      "<class 'pandas.core.frame.DataFrame'>\n",
      "RangeIndex: 9537 entries, 0 to 9536\n",
      "Data columns (total 10 columns):\n",
      " #   Column               Non-Null Count  Dtype  \n",
      "---  ------               --------------  -----  \n",
      " 0   session_id           9537 non-null   object \n",
      " 1   network_packet_size  9537 non-null   int64  \n",
      " 2   protocol_type        9537 non-null   object \n",
      " 3   login_attempts       9537 non-null   int64  \n",
      " 4   session_duration     9537 non-null   float64\n",
      " 5   encryption_used      9537 non-null   object \n",
      " 6   ip_reputation_score  9537 non-null   float64\n",
      " 7   failed_logins        9537 non-null   int64  \n",
      " 8   browser_type         9537 non-null   object \n",
      " 9   unusual_time_access  9537 non-null   int64  \n",
      "dtypes: float64(2), int64(4), object(4)\n",
      "memory usage: 745.2+ KB\n"
     ]
    }
   ],
   "source": [
    "df.info()"
   ]
  },
  {
   "cell_type": "markdown",
   "metadata": {},
   "source": [
    "# Drop Irrelevant Column"
   ]
  },
  {
   "cell_type": "code",
   "execution_count": 5,
   "metadata": {},
   "outputs": [],
   "source": [
    "df = df.drop(columns=[\"session_id\"])"
   ]
  },
  {
   "cell_type": "markdown",
   "metadata": {},
   "source": [
    "# Separate numerical and categorical features"
   ]
  },
  {
   "cell_type": "code",
   "execution_count": 6,
   "metadata": {},
   "outputs": [],
   "source": [
    "num_features = [\"network_packet_size\", \"login_attempts\", \"session_duration\", \"ip_reputation_score\", \"failed_logins\", \"unusual_time_access\"]\n",
    "cat_features = [\"protocol_type\", \"encryption_used\", \"browser_type\"]"
   ]
  },
  {
   "cell_type": "markdown",
   "metadata": {},
   "source": [
    "# Normalize Numerical Feaatures"
   ]
  },
  {
   "cell_type": "code",
   "execution_count": 7,
   "metadata": {},
   "outputs": [],
   "source": [
    "scaler = MinMaxScaler()\n",
    "df[num_features] = scaler.fit_transform(df[num_features])"
   ]
  },
  {
   "cell_type": "code",
   "execution_count": 8,
   "metadata": {},
   "outputs": [
    {
     "data": {
      "text/plain": [
       "['scaler.pkl']"
      ]
     },
     "execution_count": 8,
     "metadata": {},
     "output_type": "execute_result"
    }
   ],
   "source": [
    "# Save Scaler\n",
    "joblib.dump(scaler, \"scaler.pkl\")"
   ]
  },
  {
   "cell_type": "markdown",
   "metadata": {},
   "source": [
    "# One-hot encode categorical features"
   ]
  },
  {
   "cell_type": "code",
   "execution_count": 9,
   "metadata": {},
   "outputs": [],
   "source": [
    "encoder = OneHotEncoder(sparse=False, drop=\"first\")\n",
    "encoded_cats = encoder.fit_transform(df[cat_features])\n",
    "encoded_df = pd.DataFrame(encoded_cats, columns=encoder.get_feature_names_out(cat_features))"
   ]
  },
  {
   "cell_type": "code",
   "execution_count": 10,
   "metadata": {},
   "outputs": [
    {
     "data": {
      "text/plain": [
       "['encoder.pkl']"
      ]
     },
     "execution_count": 10,
     "metadata": {},
     "output_type": "execute_result"
    }
   ],
   "source": [
    "# Save the encoder\n",
    "joblib.dump(encoder, \"encoder.pkl\")"
   ]
  },
  {
   "cell_type": "markdown",
   "metadata": {},
   "source": [
    "# Merge encoded data"
   ]
  },
  {
   "cell_type": "code",
   "execution_count": 11,
   "metadata": {},
   "outputs": [],
   "source": [
    "df = df.drop(columns=cat_features).reset_index(drop=True)\n",
    "df = pd.concat([df, encoded_df], axis=1)"
   ]
  },
  {
   "cell_type": "code",
   "execution_count": 12,
   "metadata": {},
   "outputs": [
    {
     "data": {
      "text/html": [
       "<div>\n",
       "<style scoped>\n",
       "    .dataframe tbody tr th:only-of-type {\n",
       "        vertical-align: middle;\n",
       "    }\n",
       "\n",
       "    .dataframe tbody tr th {\n",
       "        vertical-align: top;\n",
       "    }\n",
       "\n",
       "    .dataframe thead th {\n",
       "        text-align: right;\n",
       "    }\n",
       "</style>\n",
       "<table border=\"1\" class=\"dataframe\">\n",
       "  <thead>\n",
       "    <tr style=\"text-align: right;\">\n",
       "      <th></th>\n",
       "      <th>network_packet_size</th>\n",
       "      <th>login_attempts</th>\n",
       "      <th>session_duration</th>\n",
       "      <th>ip_reputation_score</th>\n",
       "      <th>failed_logins</th>\n",
       "      <th>unusual_time_access</th>\n",
       "      <th>protocol_type_TCP</th>\n",
       "      <th>protocol_type_UDP</th>\n",
       "      <th>encryption_used_DES</th>\n",
       "      <th>encryption_used_None</th>\n",
       "      <th>browser_type_Edge</th>\n",
       "      <th>browser_type_Firefox</th>\n",
       "      <th>browser_type_Safari</th>\n",
       "      <th>browser_type_Unknown</th>\n",
       "    </tr>\n",
       "  </thead>\n",
       "  <tbody>\n",
       "    <tr>\n",
       "      <th>0</th>\n",
       "      <td>0.438165</td>\n",
       "      <td>0.250000</td>\n",
       "      <td>0.068497</td>\n",
       "      <td>0.655587</td>\n",
       "      <td>0.2</td>\n",
       "      <td>0.0</td>\n",
       "      <td>1.0</td>\n",
       "      <td>0.0</td>\n",
       "      <td>1.0</td>\n",
       "      <td>0.0</td>\n",
       "      <td>1.0</td>\n",
       "      <td>0.0</td>\n",
       "      <td>0.0</td>\n",
       "      <td>0.0</td>\n",
       "    </tr>\n",
       "    <tr>\n",
       "      <th>1</th>\n",
       "      <td>0.334152</td>\n",
       "      <td>0.166667</td>\n",
       "      <td>0.216623</td>\n",
       "      <td>0.324443</td>\n",
       "      <td>0.0</td>\n",
       "      <td>0.0</td>\n",
       "      <td>1.0</td>\n",
       "      <td>0.0</td>\n",
       "      <td>1.0</td>\n",
       "      <td>0.0</td>\n",
       "      <td>0.0</td>\n",
       "      <td>1.0</td>\n",
       "      <td>0.0</td>\n",
       "      <td>0.0</td>\n",
       "    </tr>\n",
       "    <tr>\n",
       "      <th>2</th>\n",
       "      <td>0.462735</td>\n",
       "      <td>0.166667</td>\n",
       "      <td>0.010368</td>\n",
       "      <td>0.799160</td>\n",
       "      <td>0.4</td>\n",
       "      <td>0.0</td>\n",
       "      <td>1.0</td>\n",
       "      <td>0.0</td>\n",
       "      <td>1.0</td>\n",
       "      <td>0.0</td>\n",
       "      <td>0.0</td>\n",
       "      <td>0.0</td>\n",
       "      <td>0.0</td>\n",
       "      <td>0.0</td>\n",
       "    </tr>\n",
       "    <tr>\n",
       "      <th>3</th>\n",
       "      <td>0.606061</td>\n",
       "      <td>0.250000</td>\n",
       "      <td>0.083555</td>\n",
       "      <td>0.131015</td>\n",
       "      <td>0.0</td>\n",
       "      <td>0.0</td>\n",
       "      <td>0.0</td>\n",
       "      <td>1.0</td>\n",
       "      <td>1.0</td>\n",
       "      <td>0.0</td>\n",
       "      <td>0.0</td>\n",
       "      <td>0.0</td>\n",
       "      <td>0.0</td>\n",
       "      <td>1.0</td>\n",
       "    </tr>\n",
       "    <tr>\n",
       "      <th>4</th>\n",
       "      <td>0.318591</td>\n",
       "      <td>0.333333</td>\n",
       "      <td>0.073998</td>\n",
       "      <td>0.056820</td>\n",
       "      <td>0.2</td>\n",
       "      <td>0.0</td>\n",
       "      <td>1.0</td>\n",
       "      <td>0.0</td>\n",
       "      <td>0.0</td>\n",
       "      <td>0.0</td>\n",
       "      <td>0.0</td>\n",
       "      <td>1.0</td>\n",
       "      <td>0.0</td>\n",
       "      <td>0.0</td>\n",
       "    </tr>\n",
       "    <tr>\n",
       "      <th>...</th>\n",
       "      <td>...</td>\n",
       "      <td>...</td>\n",
       "      <td>...</td>\n",
       "      <td>...</td>\n",
       "      <td>...</td>\n",
       "      <td>...</td>\n",
       "      <td>...</td>\n",
       "      <td>...</td>\n",
       "      <td>...</td>\n",
       "      <td>...</td>\n",
       "      <td>...</td>\n",
       "      <td>...</td>\n",
       "      <td>...</td>\n",
       "      <td>...</td>\n",
       "    </tr>\n",
       "    <tr>\n",
       "      <th>9532</th>\n",
       "      <td>0.106470</td>\n",
       "      <td>0.166667</td>\n",
       "      <td>0.031370</td>\n",
       "      <td>0.558949</td>\n",
       "      <td>0.6</td>\n",
       "      <td>0.0</td>\n",
       "      <td>0.0</td>\n",
       "      <td>0.0</td>\n",
       "      <td>0.0</td>\n",
       "      <td>0.0</td>\n",
       "      <td>0.0</td>\n",
       "      <td>0.0</td>\n",
       "      <td>0.0</td>\n",
       "      <td>0.0</td>\n",
       "    </tr>\n",
       "    <tr>\n",
       "      <th>9533</th>\n",
       "      <td>0.258804</td>\n",
       "      <td>0.166667</td>\n",
       "      <td>0.025362</td>\n",
       "      <td>0.440429</td>\n",
       "      <td>0.0</td>\n",
       "      <td>0.0</td>\n",
       "      <td>1.0</td>\n",
       "      <td>0.0</td>\n",
       "      <td>0.0</td>\n",
       "      <td>1.0</td>\n",
       "      <td>0.0</td>\n",
       "      <td>0.0</td>\n",
       "      <td>0.0</td>\n",
       "      <td>0.0</td>\n",
       "    </tr>\n",
       "    <tr>\n",
       "      <th>9534</th>\n",
       "      <td>0.491400</td>\n",
       "      <td>0.333333</td>\n",
       "      <td>0.004822</td>\n",
       "      <td>0.386963</td>\n",
       "      <td>0.2</td>\n",
       "      <td>0.0</td>\n",
       "      <td>1.0</td>\n",
       "      <td>0.0</td>\n",
       "      <td>0.0</td>\n",
       "      <td>0.0</td>\n",
       "      <td>0.0</td>\n",
       "      <td>1.0</td>\n",
       "      <td>0.0</td>\n",
       "      <td>0.0</td>\n",
       "    </tr>\n",
       "    <tr>\n",
       "      <th>9535</th>\n",
       "      <td>0.280098</td>\n",
       "      <td>0.250000</td>\n",
       "      <td>0.011984</td>\n",
       "      <td>0.580298</td>\n",
       "      <td>0.2</td>\n",
       "      <td>1.0</td>\n",
       "      <td>1.0</td>\n",
       "      <td>0.0</td>\n",
       "      <td>0.0</td>\n",
       "      <td>0.0</td>\n",
       "      <td>0.0</td>\n",
       "      <td>0.0</td>\n",
       "      <td>0.0</td>\n",
       "      <td>0.0</td>\n",
       "    </tr>\n",
       "    <tr>\n",
       "      <th>9536</th>\n",
       "      <td>0.226044</td>\n",
       "      <td>0.416667</td>\n",
       "      <td>0.012014</td>\n",
       "      <td>0.297864</td>\n",
       "      <td>0.8</td>\n",
       "      <td>1.0</td>\n",
       "      <td>1.0</td>\n",
       "      <td>0.0</td>\n",
       "      <td>0.0</td>\n",
       "      <td>1.0</td>\n",
       "      <td>0.0</td>\n",
       "      <td>0.0</td>\n",
       "      <td>0.0</td>\n",
       "      <td>0.0</td>\n",
       "    </tr>\n",
       "  </tbody>\n",
       "</table>\n",
       "<p>9537 rows × 14 columns</p>\n",
       "</div>"
      ],
      "text/plain": [
       "      network_packet_size  login_attempts  session_duration  \\\n",
       "0                0.438165        0.250000          0.068497   \n",
       "1                0.334152        0.166667          0.216623   \n",
       "2                0.462735        0.166667          0.010368   \n",
       "3                0.606061        0.250000          0.083555   \n",
       "4                0.318591        0.333333          0.073998   \n",
       "...                   ...             ...               ...   \n",
       "9532             0.106470        0.166667          0.031370   \n",
       "9533             0.258804        0.166667          0.025362   \n",
       "9534             0.491400        0.333333          0.004822   \n",
       "9535             0.280098        0.250000          0.011984   \n",
       "9536             0.226044        0.416667          0.012014   \n",
       "\n",
       "      ip_reputation_score  failed_logins  unusual_time_access  \\\n",
       "0                0.655587            0.2                  0.0   \n",
       "1                0.324443            0.0                  0.0   \n",
       "2                0.799160            0.4                  0.0   \n",
       "3                0.131015            0.0                  0.0   \n",
       "4                0.056820            0.2                  0.0   \n",
       "...                   ...            ...                  ...   \n",
       "9532             0.558949            0.6                  0.0   \n",
       "9533             0.440429            0.0                  0.0   \n",
       "9534             0.386963            0.2                  0.0   \n",
       "9535             0.580298            0.2                  1.0   \n",
       "9536             0.297864            0.8                  1.0   \n",
       "\n",
       "      protocol_type_TCP  protocol_type_UDP  encryption_used_DES  \\\n",
       "0                   1.0                0.0                  1.0   \n",
       "1                   1.0                0.0                  1.0   \n",
       "2                   1.0                0.0                  1.0   \n",
       "3                   0.0                1.0                  1.0   \n",
       "4                   1.0                0.0                  0.0   \n",
       "...                 ...                ...                  ...   \n",
       "9532                0.0                0.0                  0.0   \n",
       "9533                1.0                0.0                  0.0   \n",
       "9534                1.0                0.0                  0.0   \n",
       "9535                1.0                0.0                  0.0   \n",
       "9536                1.0                0.0                  0.0   \n",
       "\n",
       "      encryption_used_None  browser_type_Edge  browser_type_Firefox  \\\n",
       "0                      0.0                1.0                   0.0   \n",
       "1                      0.0                0.0                   1.0   \n",
       "2                      0.0                0.0                   0.0   \n",
       "3                      0.0                0.0                   0.0   \n",
       "4                      0.0                0.0                   1.0   \n",
       "...                    ...                ...                   ...   \n",
       "9532                   0.0                0.0                   0.0   \n",
       "9533                   1.0                0.0                   0.0   \n",
       "9534                   0.0                0.0                   1.0   \n",
       "9535                   0.0                0.0                   0.0   \n",
       "9536                   1.0                0.0                   0.0   \n",
       "\n",
       "      browser_type_Safari  browser_type_Unknown  \n",
       "0                     0.0                   0.0  \n",
       "1                     0.0                   0.0  \n",
       "2                     0.0                   0.0  \n",
       "3                     0.0                   1.0  \n",
       "4                     0.0                   0.0  \n",
       "...                   ...                   ...  \n",
       "9532                  0.0                   0.0  \n",
       "9533                  0.0                   0.0  \n",
       "9534                  0.0                   0.0  \n",
       "9535                  0.0                   0.0  \n",
       "9536                  0.0                   0.0  \n",
       "\n",
       "[9537 rows x 14 columns]"
      ]
     },
     "execution_count": 12,
     "metadata": {},
     "output_type": "execute_result"
    }
   ],
   "source": [
    "df"
   ]
  },
  {
   "cell_type": "markdown",
   "metadata": {},
   "source": [
    "# Convert to numpy array"
   ]
  },
  {
   "cell_type": "code",
   "execution_count": 14,
   "metadata": {},
   "outputs": [],
   "source": [
    "X = df.values"
   ]
  },
  {
   "cell_type": "markdown",
   "metadata": {},
   "source": [
    "# Define autoencoder architecture"
   ]
  },
  {
   "cell_type": "code",
   "execution_count": 15,
   "metadata": {},
   "outputs": [],
   "source": [
    "input_dim = X.shape[1]\n",
    "encoding_dim = 8  # Bottleneck layer size"
   ]
  },
  {
   "cell_type": "code",
   "execution_count": 16,
   "metadata": {},
   "outputs": [],
   "source": [
    "input_layer = keras.Input(shape=(input_dim,))"
   ]
  },
  {
   "cell_type": "markdown",
   "metadata": {},
   "source": [
    "# Encoder with batch normalization"
   ]
  },
  {
   "cell_type": "code",
   "execution_count": 22,
   "metadata": {},
   "outputs": [],
   "source": [
    "encoded = layers.Dense(32, activation=\"relu\")(input_layer)\n",
    "encoded = layers.BatchNormalization()(encoded)\n",
    "encoded = layers.Dropout(0.2)(encoded)\n",
    "encoded = layers.Dense(16, activation=\"relu\")(encoded)\n",
    "encoded = layers.Dense(encoding_dim, activation=\"relu\")(encoded)"
   ]
  },
  {
   "cell_type": "markdown",
   "metadata": {},
   "source": [
    "# Decoder"
   ]
  },
  {
   "cell_type": "code",
   "execution_count": 23,
   "metadata": {},
   "outputs": [],
   "source": [
    "decoded = layers.Dense(16, activation=\"relu\")(encoded)\n",
    "decoded = layers.BatchNormalization()(decoded)\n",
    "decoded = layers.Dense(32, activation=\"relu\")(decoded)\n",
    "decoded = layers.Dense(input_dim, activation=\"sigmoid\")(decoded) # Using sigmoid because my values are between 0 and 1 (After normalization)"
   ]
  },
  {
   "cell_type": "markdown",
   "metadata": {},
   "source": [
    "# Build and compile model"
   ]
  },
  {
   "cell_type": "code",
   "execution_count": 24,
   "metadata": {},
   "outputs": [],
   "source": [
    "autoencoder = keras.Model(input_layer, decoded)\n",
    "autoencoder.compile(optimizer=keras.optimizers.Adam(learning_rate=0.001), loss=\"mse\")"
   ]
  },
  {
   "cell_type": "markdown",
   "metadata": {},
   "source": [
    "# Early stopping to monitor validation loss"
   ]
  },
  {
   "cell_type": "code",
   "execution_count": 25,
   "metadata": {},
   "outputs": [],
   "source": [
    "early_stopping = EarlyStopping(monitor='val_loss', patience=10, restore_best_weights=True)"
   ]
  },
  {
   "cell_type": "markdown",
   "metadata": {},
   "source": [
    "# Train autoencoder\n"
   ]
  },
  {
   "cell_type": "code",
   "execution_count": 21,
   "metadata": {},
   "outputs": [],
   "source": [
    "X_train, X_test = train_test_split(X, test_size=0.2, random_state=42)"
   ]
  },
  {
   "cell_type": "code",
   "execution_count": 26,
   "metadata": {},
   "outputs": [
    {
     "name": "stdout",
     "output_type": "stream",
     "text": [
      "Epoch 1/100\n",
      "239/239 [==============================] - 5s 12ms/step - loss: 0.0938 - val_loss: 0.0611\n",
      "Epoch 2/100\n",
      "239/239 [==============================] - 3s 11ms/step - loss: 0.0423 - val_loss: 0.0314\n",
      "Epoch 3/100\n",
      "239/239 [==============================] - 3s 11ms/step - loss: 0.0311 - val_loss: 0.0231\n",
      "Epoch 4/100\n",
      "239/239 [==============================] - 3s 11ms/step - loss: 0.0258 - val_loss: 0.0199\n",
      "Epoch 5/100\n",
      "239/239 [==============================] - 3s 11ms/step - loss: 0.0232 - val_loss: 0.0178\n",
      "Epoch 6/100\n",
      "239/239 [==============================] - 3s 11ms/step - loss: 0.0211 - val_loss: 0.0156\n",
      "Epoch 7/100\n",
      "239/239 [==============================] - 3s 11ms/step - loss: 0.0192 - val_loss: 0.0132\n",
      "Epoch 8/100\n",
      "239/239 [==============================] - 3s 12ms/step - loss: 0.0171 - val_loss: 0.0118\n",
      "Epoch 9/100\n",
      "239/239 [==============================] - 3s 11ms/step - loss: 0.0152 - val_loss: 0.0107\n",
      "Epoch 10/100\n",
      "239/239 [==============================] - 3s 11ms/step - loss: 0.0140 - val_loss: 0.0102\n",
      "Epoch 11/100\n",
      "239/239 [==============================] - 3s 11ms/step - loss: 0.0135 - val_loss: 0.0098\n",
      "Epoch 12/100\n",
      "239/239 [==============================] - 3s 11ms/step - loss: 0.0127 - val_loss: 0.0095\n",
      "Epoch 13/100\n",
      "239/239 [==============================] - 3s 12ms/step - loss: 0.0123 - val_loss: 0.0093\n",
      "Epoch 14/100\n",
      "239/239 [==============================] - 3s 12ms/step - loss: 0.0120 - val_loss: 0.0090\n",
      "Epoch 15/100\n",
      "239/239 [==============================] - 3s 12ms/step - loss: 0.0114 - val_loss: 0.0088\n",
      "Epoch 16/100\n",
      "239/239 [==============================] - 3s 12ms/step - loss: 0.0111 - val_loss: 0.0084\n",
      "Epoch 17/100\n",
      "239/239 [==============================] - 3s 11ms/step - loss: 0.0110 - val_loss: 0.0081\n",
      "Epoch 18/100\n",
      "239/239 [==============================] - 3s 11ms/step - loss: 0.0107 - val_loss: 0.0079\n",
      "Epoch 19/100\n",
      "239/239 [==============================] - 3s 11ms/step - loss: 0.0105 - val_loss: 0.0078\n",
      "Epoch 20/100\n",
      "239/239 [==============================] - 3s 11ms/step - loss: 0.0101 - val_loss: 0.0077\n",
      "Epoch 21/100\n",
      "239/239 [==============================] - 3s 11ms/step - loss: 0.0099 - val_loss: 0.0072\n",
      "Epoch 22/100\n",
      "239/239 [==============================] - 3s 11ms/step - loss: 0.0095 - val_loss: 0.0069\n",
      "Epoch 23/100\n",
      "239/239 [==============================] - 3s 11ms/step - loss: 0.0095 - val_loss: 0.0065\n",
      "Epoch 24/100\n",
      "239/239 [==============================] - 3s 11ms/step - loss: 0.0090 - val_loss: 0.0065\n",
      "Epoch 25/100\n",
      "239/239 [==============================] - 2s 10ms/step - loss: 0.0086 - val_loss: 0.0060\n",
      "Epoch 26/100\n",
      "239/239 [==============================] - 2s 10ms/step - loss: 0.0085 - val_loss: 0.0061\n",
      "Epoch 27/100\n",
      "239/239 [==============================] - 3s 11ms/step - loss: 0.0084 - val_loss: 0.0056\n",
      "Epoch 28/100\n",
      "239/239 [==============================] - 3s 11ms/step - loss: 0.0082 - val_loss: 0.0056\n",
      "Epoch 29/100\n",
      "239/239 [==============================] - 3s 11ms/step - loss: 0.0082 - val_loss: 0.0056\n",
      "Epoch 30/100\n",
      "239/239 [==============================] - 3s 11ms/step - loss: 0.0079 - val_loss: 0.0054\n",
      "Epoch 31/100\n",
      "239/239 [==============================] - 3s 11ms/step - loss: 0.0078 - val_loss: 0.0053\n",
      "Epoch 32/100\n",
      "239/239 [==============================] - 3s 11ms/step - loss: 0.0077 - val_loss: 0.0052\n",
      "Epoch 33/100\n",
      "239/239 [==============================] - 3s 11ms/step - loss: 0.0078 - val_loss: 0.0049\n",
      "Epoch 34/100\n",
      "239/239 [==============================] - 3s 11ms/step - loss: 0.0075 - val_loss: 0.0051\n",
      "Epoch 35/100\n",
      "239/239 [==============================] - 3s 11ms/step - loss: 0.0076 - val_loss: 0.0050\n",
      "Epoch 36/100\n",
      "239/239 [==============================] - 3s 11ms/step - loss: 0.0074 - val_loss: 0.0047\n",
      "Epoch 37/100\n",
      "239/239 [==============================] - 3s 11ms/step - loss: 0.0074 - val_loss: 0.0050\n",
      "Epoch 38/100\n",
      "239/239 [==============================] - 3s 11ms/step - loss: 0.0072 - val_loss: 0.0039\n",
      "Epoch 39/100\n",
      "239/239 [==============================] - 3s 12ms/step - loss: 0.0065 - val_loss: 0.0037\n",
      "Epoch 40/100\n",
      "239/239 [==============================] - 3s 12ms/step - loss: 0.0061 - val_loss: 0.0036\n",
      "Epoch 41/100\n",
      "239/239 [==============================] - 3s 11ms/step - loss: 0.0064 - val_loss: 0.0036\n",
      "Epoch 42/100\n",
      "239/239 [==============================] - 3s 12ms/step - loss: 0.0062 - val_loss: 0.0034\n",
      "Epoch 43/100\n",
      "239/239 [==============================] - 3s 13ms/step - loss: 0.0062 - val_loss: 0.0033\n",
      "Epoch 44/100\n",
      "239/239 [==============================] - 3s 12ms/step - loss: 0.0061 - val_loss: 0.0032\n",
      "Epoch 45/100\n",
      "239/239 [==============================] - 3s 12ms/step - loss: 0.0060 - val_loss: 0.0035\n",
      "Epoch 46/100\n",
      "239/239 [==============================] - 3s 12ms/step - loss: 0.0059 - val_loss: 0.0032\n",
      "Epoch 47/100\n",
      "239/239 [==============================] - 3s 11ms/step - loss: 0.0059 - val_loss: 0.0031\n",
      "Epoch 48/100\n",
      "239/239 [==============================] - 3s 11ms/step - loss: 0.0057 - val_loss: 0.0030\n",
      "Epoch 49/100\n",
      "239/239 [==============================] - 3s 11ms/step - loss: 0.0056 - val_loss: 0.0030\n",
      "Epoch 50/100\n",
      "239/239 [==============================] - 3s 11ms/step - loss: 0.0054 - val_loss: 0.0029\n",
      "Epoch 51/100\n",
      "239/239 [==============================] - 3s 11ms/step - loss: 0.0053 - val_loss: 0.0026\n",
      "Epoch 52/100\n",
      "239/239 [==============================] - 3s 11ms/step - loss: 0.0054 - val_loss: 0.0025\n",
      "Epoch 53/100\n",
      "239/239 [==============================] - 3s 11ms/step - loss: 0.0051 - val_loss: 0.0026\n",
      "Epoch 54/100\n",
      "239/239 [==============================] - 3s 12ms/step - loss: 0.0052 - val_loss: 0.0024\n",
      "Epoch 55/100\n",
      "239/239 [==============================] - 3s 12ms/step - loss: 0.0051 - val_loss: 0.0025\n",
      "Epoch 56/100\n",
      "239/239 [==============================] - 3s 12ms/step - loss: 0.0048 - val_loss: 0.0024\n",
      "Epoch 57/100\n",
      "239/239 [==============================] - 3s 11ms/step - loss: 0.0047 - val_loss: 0.0025\n",
      "Epoch 58/100\n",
      "239/239 [==============================] - 3s 12ms/step - loss: 0.0050 - val_loss: 0.0025\n",
      "Epoch 59/100\n",
      "239/239 [==============================] - 3s 11ms/step - loss: 0.0048 - val_loss: 0.0023\n",
      "Epoch 60/100\n",
      "239/239 [==============================] - 3s 12ms/step - loss: 0.0047 - val_loss: 0.0022\n",
      "Epoch 61/100\n",
      "239/239 [==============================] - 3s 11ms/step - loss: 0.0048 - val_loss: 0.0022\n",
      "Epoch 62/100\n",
      "239/239 [==============================] - 3s 12ms/step - loss: 0.0047 - val_loss: 0.0022\n",
      "Epoch 63/100\n",
      "239/239 [==============================] - 3s 11ms/step - loss: 0.0045 - val_loss: 0.0022\n",
      "Epoch 64/100\n",
      "239/239 [==============================] - 3s 11ms/step - loss: 0.0047 - val_loss: 0.0022\n",
      "Epoch 65/100\n",
      "239/239 [==============================] - 3s 11ms/step - loss: 0.0046 - val_loss: 0.0021\n",
      "Epoch 66/100\n",
      "239/239 [==============================] - 3s 11ms/step - loss: 0.0045 - val_loss: 0.0023\n",
      "Epoch 67/100\n",
      "239/239 [==============================] - 3s 11ms/step - loss: 0.0045 - val_loss: 0.0020\n",
      "Epoch 68/100\n",
      "239/239 [==============================] - 4s 15ms/step - loss: 0.0044 - val_loss: 0.0020\n",
      "Epoch 69/100\n",
      "239/239 [==============================] - 3s 11ms/step - loss: 0.0044 - val_loss: 0.0020\n",
      "Epoch 70/100\n",
      "239/239 [==============================] - 3s 12ms/step - loss: 0.0042 - val_loss: 0.0020\n",
      "Epoch 71/100\n",
      "239/239 [==============================] - 3s 12ms/step - loss: 0.0044 - val_loss: 0.0020\n",
      "Epoch 72/100\n",
      "239/239 [==============================] - 3s 11ms/step - loss: 0.0042 - val_loss: 0.0019\n",
      "Epoch 73/100\n",
      "239/239 [==============================] - 3s 12ms/step - loss: 0.0043 - val_loss: 0.0019\n",
      "Epoch 74/100\n",
      "239/239 [==============================] - 3s 11ms/step - loss: 0.0044 - val_loss: 0.0020\n",
      "Epoch 75/100\n",
      "239/239 [==============================] - 3s 11ms/step - loss: 0.0042 - val_loss: 0.0021\n",
      "Epoch 76/100\n",
      "239/239 [==============================] - 3s 11ms/step - loss: 0.0043 - val_loss: 0.0019\n",
      "Epoch 77/100\n",
      "239/239 [==============================] - 3s 11ms/step - loss: 0.0043 - val_loss: 0.0020\n",
      "Epoch 78/100\n",
      "239/239 [==============================] - 3s 12ms/step - loss: 0.0043 - val_loss: 0.0020\n",
      "Epoch 79/100\n",
      "239/239 [==============================] - 3s 11ms/step - loss: 0.0043 - val_loss: 0.0019\n",
      "Epoch 80/100\n",
      "239/239 [==============================] - 3s 11ms/step - loss: 0.0042 - val_loss: 0.0018\n",
      "Epoch 81/100\n",
      "239/239 [==============================] - 3s 11ms/step - loss: 0.0042 - val_loss: 0.0019\n",
      "Epoch 82/100\n",
      "239/239 [==============================] - 3s 11ms/step - loss: 0.0041 - val_loss: 0.0022\n",
      "Epoch 83/100\n",
      "239/239 [==============================] - 3s 11ms/step - loss: 0.0042 - val_loss: 0.0019\n",
      "Epoch 84/100\n",
      "239/239 [==============================] - 3s 11ms/step - loss: 0.0042 - val_loss: 0.0019\n",
      "Epoch 85/100\n",
      "239/239 [==============================] - 3s 12ms/step - loss: 0.0043 - val_loss: 0.0018\n",
      "Epoch 86/100\n",
      "239/239 [==============================] - 3s 12ms/step - loss: 0.0043 - val_loss: 0.0019\n",
      "Epoch 87/100\n",
      "239/239 [==============================] - 3s 11ms/step - loss: 0.0040 - val_loss: 0.0018\n",
      "Epoch 88/100\n",
      "239/239 [==============================] - 3s 12ms/step - loss: 0.0041 - val_loss: 0.0018\n",
      "Epoch 89/100\n",
      "239/239 [==============================] - 3s 12ms/step - loss: 0.0040 - val_loss: 0.0017\n",
      "Epoch 90/100\n",
      "239/239 [==============================] - 3s 12ms/step - loss: 0.0042 - val_loss: 0.0018\n",
      "Epoch 91/100\n",
      "239/239 [==============================] - 3s 12ms/step - loss: 0.0041 - val_loss: 0.0020\n",
      "Epoch 92/100\n",
      "239/239 [==============================] - 3s 11ms/step - loss: 0.0038 - val_loss: 0.0017\n",
      "Epoch 93/100\n",
      "239/239 [==============================] - 3s 11ms/step - loss: 0.0041 - val_loss: 0.0017\n",
      "Epoch 94/100\n",
      "239/239 [==============================] - 3s 12ms/step - loss: 0.0039 - val_loss: 0.0020\n",
      "Epoch 95/100\n",
      "239/239 [==============================] - 3s 11ms/step - loss: 0.0040 - val_loss: 0.0018\n",
      "Epoch 96/100\n",
      "239/239 [==============================] - 3s 11ms/step - loss: 0.0039 - val_loss: 0.0019\n",
      "Epoch 97/100\n",
      "239/239 [==============================] - 3s 11ms/step - loss: 0.0042 - val_loss: 0.0020\n",
      "Epoch 98/100\n",
      "239/239 [==============================] - 3s 11ms/step - loss: 0.0038 - val_loss: 0.0017\n",
      "Epoch 99/100\n",
      "239/239 [==============================] - 3s 12ms/step - loss: 0.0041 - val_loss: 0.0018\n",
      "Epoch 100/100\n",
      "239/239 [==============================] - 3s 11ms/step - loss: 0.0039 - val_loss: 0.0021\n"
     ]
    }
   ],
   "source": [
    "history = autoencoder.fit(\n",
    "    X_train, X_train,\n",
    "    epochs=100,\n",
    "    batch_size=32,\n",
    "    shuffle=True,\n",
    "    validation_data=(X_test, X_test),\n",
    "    verbose=1,\n",
    "    callbacks=[early_stopping]\n",
    ")"
   ]
  },
  {
   "cell_type": "markdown",
   "metadata": {},
   "source": [
    "# Plot training loss"
   ]
  },
  {
   "cell_type": "code",
   "execution_count": 27,
   "metadata": {},
   "outputs": [
    {
     "data": {
      "image/png": "[encoded data removed]",
      "text/plain": [
       "<Figure size 640x480 with 1 Axes>"
      ]
     },
     "metadata": {},
     "output_type": "display_data"
    }
   ],
   "source": [
    "plt.plot(history.history['loss'], label=\"Training Loss\")\n",
    "plt.plot(history.history['val_loss'], label=\"Validation Loss\")\n",
    "plt.legend()\n",
    "plt.title(\"Autoencoder Training Loss\")\n",
    "plt.show()"
   ]
  },
  {
   "cell_type": "markdown",
   "metadata": {},
   "source": [
    "# Compute reconstruction error"
   ]
  },
  {
   "cell_type": "code",
   "execution_count": 28,
   "metadata": {},
   "outputs": [
    {
     "name": "stdout",
     "output_type": "stream",
     "text": [
      "299/299 [==============================] - 2s 5ms/step\n"
     ]
    }
   ],
   "source": [
    "reconstructed = autoencoder.predict(X)\n",
    "reconstruction_errors = np.mean(np.abs(X - reconstructed), axis=1)"
   ]
  },
  {
   "cell_type": "code",
   "execution_count": 29,
   "metadata": {},
   "outputs": [
    {
     "data": {
      "image/png": "[encoded data removed]",
      "text/plain": [
       "<Figure size 800x500 with 1 Axes>"
      ]
     },
     "metadata": {},
     "output_type": "display_data"
    }
   ],
   "source": [
    "plt.figure(figsize=(8,5))\n",
    "plt.hist(reconstruction_errors, bins=50, color='blue', alpha=0.7)\n",
    "plt.axvline(np.percentile(reconstruction_errors, 95), color='red', linestyle='dashed', linewidth=2, label='95th percentile threshold')\n",
    "plt.xlabel(\"Reconstruction Error\")\n",
    "plt.ylabel(\"Frequency\")\n",
    "plt.title(\"Reconstruction Error Distribution\")\n",
    "plt.legend()\n",
    "plt.show()"
   ]
  },
  {
   "cell_type": "markdown",
   "metadata": {},
   "source": [
    "# Set anomaly detection threshold (e.g., 95th percentile)"
   ]
  },
  {
   "cell_type": "code",
   "execution_count": 30,
   "metadata": {},
   "outputs": [],
   "source": [
    "threshold = np.percentile(reconstruction_errors, 95)\n",
    "anomalies = reconstruction_errors > threshold"
   ]
  },
  {
   "cell_type": "code",
   "execution_count": 37,
   "metadata": {},
   "outputs": [
    {
     "data": {
      "text/plain": [
       "['threshold.pkl']"
      ]
     },
     "execution_count": 37,
     "metadata": {},
     "output_type": "execute_result"
    }
   ],
   "source": [
    "# Export threshold\n",
    "joblib.dump(threshold, \"threshold.pkl\")"
   ]
  },
  {
   "cell_type": "code",
   "execution_count": 31,
   "metadata": {},
   "outputs": [
    {
     "name": "stdout",
     "output_type": "stream",
     "text": [
      "Detected Anomalies: 477\n"
     ]
    }
   ],
   "source": [
    "print(f\"Detected Anomalies: {np.sum(anomalies)}\")"
   ]
  },
  {
   "cell_type": "code",
   "execution_count": 32,
   "metadata": {},
   "outputs": [
    {
     "name": "stderr",
     "output_type": "stream",
     "text": [
      "C:\\Users\\3ehen\\AppData\\Local\\Temp\\ipykernel_7704\\1621347210.py:2: SettingWithCopyWarning: \n",
      "A value is trying to be set on a copy of a slice from a DataFrame.\n",
      "Try using .loc[row_indexer,col_indexer] = value instead\n",
      "\n",
      "See the caveats in the documentation: https://pandas.pydata.org/pandas-docs/stable/user_guide/indexing.html#returning-a-view-versus-a-copy\n",
      "  df_anomalies[num_features] = scaler.inverse_transform(df_anomalies[num_features])\n"
     ]
    },
    {
     "data": {
      "text/html": [
       "<div>\n",
       "<style scoped>\n",
       "    .dataframe tbody tr th:only-of-type {\n",
       "        vertical-align: middle;\n",
       "    }\n",
       "\n",
       "    .dataframe tbody tr th {\n",
       "        vertical-align: top;\n",
       "    }\n",
       "\n",
       "    .dataframe thead th {\n",
       "        text-align: right;\n",
       "    }\n",
       "</style>\n",
       "<table border=\"1\" class=\"dataframe\">\n",
       "  <thead>\n",
       "    <tr style=\"text-align: right;\">\n",
       "      <th></th>\n",
       "      <th>network_packet_size</th>\n",
       "      <th>login_attempts</th>\n",
       "      <th>session_duration</th>\n",
       "      <th>ip_reputation_score</th>\n",
       "      <th>failed_logins</th>\n",
       "      <th>unusual_time_access</th>\n",
       "      <th>protocol_type</th>\n",
       "      <th>encryption_used</th>\n",
       "      <th>browser_type</th>\n",
       "    </tr>\n",
       "  </thead>\n",
       "  <tbody>\n",
       "    <tr>\n",
       "      <th>0</th>\n",
       "      <td>804.0</td>\n",
       "      <td>4.0</td>\n",
       "      <td>601.248835</td>\n",
       "      <td>0.123267</td>\n",
       "      <td>0.0</td>\n",
       "      <td>0.0</td>\n",
       "      <td>UDP</td>\n",
       "      <td>DES</td>\n",
       "      <td>Unknown</td>\n",
       "    </tr>\n",
       "    <tr>\n",
       "      <th>1</th>\n",
       "      <td>575.0</td>\n",
       "      <td>3.0</td>\n",
       "      <td>3286.221728</td>\n",
       "      <td>0.420471</td>\n",
       "      <td>0.0</td>\n",
       "      <td>0.0</td>\n",
       "      <td>TCP</td>\n",
       "      <td>DES</td>\n",
       "      <td>Chrome</td>\n",
       "    </tr>\n",
       "    <tr>\n",
       "      <th>2</th>\n",
       "      <td>108.0</td>\n",
       "      <td>7.0</td>\n",
       "      <td>3325.308689</td>\n",
       "      <td>0.079509</td>\n",
       "      <td>2.0</td>\n",
       "      <td>0.0</td>\n",
       "      <td>TCP</td>\n",
       "      <td>AES</td>\n",
       "      <td>Firefox</td>\n",
       "    </tr>\n",
       "    <tr>\n",
       "      <th>3</th>\n",
       "      <td>771.0</td>\n",
       "      <td>6.0</td>\n",
       "      <td>1158.071232</td>\n",
       "      <td>0.135779</td>\n",
       "      <td>2.0</td>\n",
       "      <td>1.0</td>\n",
       "      <td>ICMP</td>\n",
       "      <td>None</td>\n",
       "      <td>Chrome</td>\n",
       "    </tr>\n",
       "    <tr>\n",
       "      <th>4</th>\n",
       "      <td>807.0</td>\n",
       "      <td>3.0</td>\n",
       "      <td>1455.576780</td>\n",
       "      <td>0.627155</td>\n",
       "      <td>0.0</td>\n",
       "      <td>0.0</td>\n",
       "      <td>TCP</td>\n",
       "      <td>AES</td>\n",
       "      <td>Unknown</td>\n",
       "    </tr>\n",
       "  </tbody>\n",
       "</table>\n",
       "</div>"
      ],
      "text/plain": [
       "   network_packet_size  login_attempts  session_duration  ip_reputation_score  \\\n",
       "0                804.0             4.0        601.248835             0.123267   \n",
       "1                575.0             3.0       3286.221728             0.420471   \n",
       "2                108.0             7.0       3325.308689             0.079509   \n",
       "3                771.0             6.0       1158.071232             0.135779   \n",
       "4                807.0             3.0       1455.576780             0.627155   \n",
       "\n",
       "   failed_logins  unusual_time_access protocol_type encryption_used  \\\n",
       "0            0.0                  0.0           UDP             DES   \n",
       "1            0.0                  0.0           TCP             DES   \n",
       "2            2.0                  0.0           TCP             AES   \n",
       "3            2.0                  1.0          ICMP            None   \n",
       "4            0.0                  0.0           TCP             AES   \n",
       "\n",
       "  browser_type  \n",
       "0      Unknown  \n",
       "1       Chrome  \n",
       "2      Firefox  \n",
       "3       Chrome  \n",
       "4      Unknown  "
      ]
     },
     "execution_count": 32,
     "metadata": {},
     "output_type": "execute_result"
    }
   ],
   "source": [
    "df_anomalies = df.iloc[np.where(anomalies)]\n",
    "df_anomalies[num_features] = scaler.inverse_transform(df_anomalies[num_features])\n",
    "\n",
    "decoded_cats = encoder.inverse_transform(df_anomalies[encoder.get_feature_names_out(cat_features)])\n",
    "\n",
    "# Convert to DataFrame\n",
    "decoded_cats_df = pd.DataFrame(decoded_cats, columns=cat_features)\n",
    "\n",
    "# Merge back with the anomaly dataframe\n",
    "df_anomalies = df_anomalies.drop(columns=encoder.get_feature_names_out(cat_features)).reset_index(drop=True)\n",
    "df_anomalies = pd.concat([df_anomalies, decoded_cats_df], axis=1)\n",
    "\n",
    "df_anomalies.head(5)"
   ]
  },
  {
   "cell_type": "markdown",
   "metadata": {},
   "source": [
    "# Inferencing Example"
   ]
  },
  {
   "cell_type": "code",
   "execution_count": 38,
   "metadata": {},
   "outputs": [],
   "source": [
    "anomaly_data = {\n",
    "    \"network_packet_size\": 108.0,\n",
    "    \"login_attempts\": 7.0,\n",
    "    \"session_duration\": 3325.308689,\n",
    "    \"ip_reputation_score\": 0.079509,\n",
    "    \"failed_logins\": 2.0,\n",
    "    \"unusual_time_access\": 0.0,\n",
    "    \"protocol_type\": \"TCP\",\n",
    "    \"encryption_used\": \"DES\",\n",
    "    \"browser_type\": \"Chrome\"\n",
    "}\n",
    "\n",
    "# Convert to DataFrame\n",
    "new_df = pd.DataFrame([anomaly_data])\n",
    "\n",
    "# Normalize numerical features\n",
    "new_df[num_features] = scaler.transform(new_df[num_features])  # Use the same scaler!\n",
    "\n",
    "# One-hot encode categorical features\n",
    "new_encoded = encoder.transform(new_df[cat_features])\n",
    "new_encoded_df = pd.DataFrame(new_encoded, columns=encoder.get_feature_names_out(cat_features))\n",
    "\n",
    "# Merge preprocessed features\n",
    "new_df = new_df.drop(columns=cat_features).reset_index(drop=True)\n",
    "new_df = pd.concat([new_df, new_encoded_df], axis=1)\n",
    "\n",
    "# Convert to NumPy array for TensorFlow\n",
    "new_input = new_df.to_numpy()"
   ]
  },
  {
   "cell_type": "code",
   "execution_count": 39,
   "metadata": {},
   "outputs": [
    {
     "name": "stdout",
     "output_type": "stream",
     "text": [
      "1/1 [==============================] - 0s 27ms/step\n",
      "Reconstruction Error: 0.044856\n",
      "🚨 Anomalous Data Point Detected!\n"
     ]
    }
   ],
   "source": [
    "# Pass the input through the autoencoder\n",
    "reconstructed = autoencoder.predict(new_input)\n",
    "\n",
    "# Compute Reconstruction Error (MAE)\n",
    "error = np.mean(np.abs(new_input - reconstructed))\n",
    "\n",
    "print(f\"Reconstruction Error: {error:.6f}\")\n",
    "\n",
    "if error > threshold:\n",
    "    print(\"🚨 Anomalous Data Point Detected!\")\n",
    "else:\n",
    "    print(\"✅ Normal Data Point\")"
   ]
  },
  {
   "cell_type": "markdown",
   "metadata": {},
   "source": [
    "# Predicting a Random Row from Dataset"
   ]
  },
  {
   "cell_type": "code",
   "execution_count": 35,
   "metadata": {},
   "outputs": [
    {
     "name": "stdout",
     "output_type": "stream",
     "text": [
      "1/1 [==============================] - 0s 29ms/step\n",
      "Reconstruction Error: 0.013786\n",
      "✅ Normal Data Point\n"
     ]
    }
   ],
   "source": [
    "random_row = df.sample(1, random_state=42)\n",
    "new_input = random_row.to_numpy()\n",
    "\n",
    "reconstructed = autoencoder.predict(new_input)\n",
    "\n",
    "error = np.mean(np.abs(new_input - reconstructed))\n",
    "\n",
    "print(f\"Reconstruction Error: {error:.6f}\")\n",
    "\n",
    "if error > threshold:\n",
    "    print(\"🚨 Anomalous Data Point Detected!\")\n",
    "else:\n",
    "    print(\"✅ Normal Data Point\")"
   ]
  },
  {
   "cell_type": "markdown",
   "metadata": {},
   "source": [
    "# Save Model"
   ]
  },
  {
   "cell_type": "code",
   "execution_count": 36,
   "metadata": {},
   "outputs": [],
   "source": [
    "autoencoder.save(\"autoencoder.h5\")"
   ]
  }
 ],
 "metadata": {
  "kernelspec": {
   "display_name": ".venv",
   "language": "python",
   "name": "python3"
  },
  "language_info": {
   "codemirror_mode": {
    "name": "ipython",
    "version": 3
   },
   "file_extension": ".py",
   "mimetype": "text/x-python",
   "name": "python",
   "nbconvert_exporter": "python",
   "pygments_lexer": "ipython3",
   "version": "3.10.16"
  }
 },
 "nbformat": 4,
 "nbformat_minor": 2
}
